{
 "cells": [
  {
   "cell_type": "code",
   "execution_count": 3,
   "metadata": {},
   "outputs": [
    {
     "name": "stdout",
     "output_type": "stream",
     "text": [
      "Defaulting to user installation because normal site-packages is not writeableNote: you may need to restart the kernel to use updated packages.\n",
      "\n",
      "Requirement already satisfied: yolov5 in c:\\users\\aabid\\appdata\\roaming\\python\\python311\\site-packages (7.0.13)\n",
      "Requirement already satisfied: gitpython>=3.1.30 in c:\\users\\aabid\\appdata\\roaming\\python\\python311\\site-packages (from yolov5) (3.1.42)\n",
      "Requirement already satisfied: matplotlib>=3.3 in c:\\users\\aabid\\appdata\\roaming\\python\\python311\\site-packages (from yolov5) (3.8.0)\n",
      "Requirement already satisfied: numpy>=1.18.5 in c:\\users\\aabid\\appdata\\roaming\\python\\python311\\site-packages (from yolov5) (1.23.5)\n",
      "Requirement already satisfied: opencv-python>=4.1.1 in c:\\users\\aabid\\appdata\\roaming\\python\\python311\\site-packages (from yolov5) (4.7.0.72)\n",
      "Requirement already satisfied: Pillow>=7.1.2 in c:\\users\\aabid\\appdata\\roaming\\python\\python311\\site-packages (from yolov5) (10.0.0)\n",
      "Requirement already satisfied: psutil in c:\\users\\aabid\\appdata\\roaming\\python\\python311\\site-packages (from yolov5) (5.9.8)\n",
      "Requirement already satisfied: PyYAML>=5.3.1 in c:\\users\\aabid\\appdata\\roaming\\python\\python311\\site-packages (from yolov5) (6.0.1)\n",
      "Requirement already satisfied: requests>=2.23.0 in c:\\users\\aabid\\appdata\\roaming\\python\\python311\\site-packages (from yolov5) (2.28.1)\n",
      "Requirement already satisfied: scipy>=1.4.1 in c:\\users\\aabid\\appdata\\roaming\\python\\python311\\site-packages (from yolov5) (1.11.3)\n",
      "Requirement already satisfied: thop>=0.1.1 in c:\\users\\aabid\\appdata\\roaming\\python\\python311\\site-packages (from yolov5) (0.1.1.post2209072238)\n",
      "Requirement already satisfied: torch>=1.7.0 in c:\\users\\aabid\\appdata\\roaming\\python\\python311\\site-packages (from yolov5) (2.1.1+cu118)\n",
      "Requirement already satisfied: torchvision>=0.8.1 in c:\\users\\aabid\\appdata\\roaming\\python\\python311\\site-packages (from yolov5) (0.16.1+cu118)\n",
      "Requirement already satisfied: tqdm>=4.64.0 in c:\\users\\aabid\\appdata\\roaming\\python\\python311\\site-packages (from yolov5) (4.66.1)\n",
      "Requirement already satisfied: ultralytics>=8.0.100 in c:\\users\\aabid\\appdata\\roaming\\python\\python311\\site-packages (from yolov5) (8.1.34)\n",
      "Requirement already satisfied: tensorboard>=2.4.1 in c:\\users\\aabid\\appdata\\roaming\\python\\python311\\site-packages (from yolov5) (2.16.2)\n",
      "Requirement already satisfied: pandas>=1.1.4 in c:\\users\\aabid\\appdata\\roaming\\python\\python311\\site-packages (from yolov5) (2.1.1)\n",
      "Requirement already satisfied: seaborn>=0.11.0 in c:\\users\\aabid\\appdata\\roaming\\python\\python311\\site-packages (from yolov5) (0.13.0)\n",
      "Requirement already satisfied: setuptools>=65.5.1 in c:\\users\\aabid\\appdata\\roaming\\python\\python311\\site-packages (from yolov5) (68.2.2)\n",
      "Requirement already satisfied: fire in c:\\users\\aabid\\appdata\\roaming\\python\\python311\\site-packages (from yolov5) (0.6.0)\n",
      "Requirement already satisfied: boto3>=1.19.1 in c:\\users\\aabid\\appdata\\roaming\\python\\python311\\site-packages (from yolov5) (1.34.71)\n",
      "Requirement already satisfied: sahi>=0.11.10 in c:\\users\\aabid\\appdata\\roaming\\python\\python311\\site-packages (from yolov5) (0.11.15)\n",
      "Requirement already satisfied: huggingface-hub>=0.12.0 in c:\\users\\aabid\\appdata\\roaming\\python\\python311\\site-packages (from yolov5) (0.19.4)\n",
      "Requirement already satisfied: roboflow>=0.2.29 in c:\\users\\aabid\\appdata\\roaming\\python\\python311\\site-packages (from yolov5) (1.1.26)\n",
      "Requirement already satisfied: botocore<1.35.0,>=1.34.71 in c:\\users\\aabid\\appdata\\roaming\\python\\python311\\site-packages (from boto3>=1.19.1->yolov5) (1.34.71)\n",
      "Requirement already satisfied: jmespath<2.0.0,>=0.7.1 in c:\\users\\aabid\\appdata\\roaming\\python\\python311\\site-packages (from boto3>=1.19.1->yolov5) (1.0.1)\n",
      "Requirement already satisfied: s3transfer<0.11.0,>=0.10.0 in c:\\users\\aabid\\appdata\\roaming\\python\\python311\\site-packages (from boto3>=1.19.1->yolov5) (0.10.1)\n",
      "Requirement already satisfied: gitdb<5,>=4.0.1 in c:\\users\\aabid\\appdata\\roaming\\python\\python311\\site-packages (from gitpython>=3.1.30->yolov5) (4.0.11)\n",
      "Requirement already satisfied: filelock in c:\\users\\aabid\\appdata\\roaming\\python\\python311\\site-packages (from huggingface-hub>=0.12.0->yolov5) (3.12.4)\n",
      "Requirement already satisfied: fsspec>=2023.5.0 in c:\\users\\aabid\\appdata\\roaming\\python\\python311\\site-packages (from huggingface-hub>=0.12.0->yolov5) (2023.10.0)\n",
      "Requirement already satisfied: typing-extensions>=3.7.4.3 in c:\\users\\aabid\\appdata\\roaming\\python\\python311\\site-packages (from huggingface-hub>=0.12.0->yolov5) (4.8.0)\n",
      "Requirement already satisfied: packaging>=20.9 in c:\\users\\aabid\\appdata\\roaming\\python\\python311\\site-packages (from huggingface-hub>=0.12.0->yolov5) (23.2)\n",
      "Requirement already satisfied: contourpy>=1.0.1 in c:\\users\\aabid\\appdata\\roaming\\python\\python311\\site-packages (from matplotlib>=3.3->yolov5) (1.1.1)\n",
      "Requirement already satisfied: cycler>=0.10 in c:\\users\\aabid\\appdata\\roaming\\python\\python311\\site-packages (from matplotlib>=3.3->yolov5) (0.10.0)\n",
      "Requirement already satisfied: fonttools>=4.22.0 in c:\\users\\aabid\\appdata\\roaming\\python\\python311\\site-packages (from matplotlib>=3.3->yolov5) (4.43.0)\n",
      "Requirement already satisfied: kiwisolver>=1.0.1 in c:\\users\\aabid\\appdata\\roaming\\python\\python311\\site-packages (from matplotlib>=3.3->yolov5) (1.4.5)\n",
      "Requirement already satisfied: pyparsing>=2.3.1 in c:\\users\\aabid\\appdata\\roaming\\python\\python311\\site-packages (from matplotlib>=3.3->yolov5) (3.1.1)\n",
      "Requirement already satisfied: python-dateutil>=2.7 in c:\\users\\aabid\\appdata\\roaming\\python\\python311\\site-packages (from matplotlib>=3.3->yolov5) (2.8.2)\n",
      "Requirement already satisfied: pytz>=2020.1 in c:\\users\\aabid\\appdata\\roaming\\python\\python311\\site-packages (from pandas>=1.1.4->yolov5) (2023.3.post1)\n",
      "Requirement already satisfied: tzdata>=2022.1 in c:\\users\\aabid\\appdata\\roaming\\python\\python311\\site-packages (from pandas>=1.1.4->yolov5) (2023.3)\n",
      "Requirement already satisfied: charset-normalizer<3,>=2 in c:\\users\\aabid\\appdata\\roaming\\python\\python311\\site-packages (from requests>=2.23.0->yolov5) (2.1.1)\n",
      "Requirement already satisfied: idna<4,>=2.5 in c:\\users\\aabid\\appdata\\roaming\\python\\python311\\site-packages (from requests>=2.23.0->yolov5) (2.10)\n",
      "Requirement already satisfied: urllib3<1.27,>=1.21.1 in c:\\users\\aabid\\appdata\\roaming\\python\\python311\\site-packages (from requests>=2.23.0->yolov5) (1.26.18)\n",
      "Requirement already satisfied: certifi>=2017.4.17 in c:\\users\\aabid\\appdata\\roaming\\python\\python311\\site-packages (from requests>=2.23.0->yolov5) (2023.7.22)\n",
      "Requirement already satisfied: chardet==4.0.0 in c:\\users\\aabid\\appdata\\roaming\\python\\python311\\site-packages (from roboflow>=0.2.29->yolov5) (4.0.0)\n",
      "Requirement already satisfied: opencv-python-headless==4.8.0.74 in c:\\users\\aabid\\appdata\\roaming\\python\\python311\\site-packages (from roboflow>=0.2.29->yolov5) (4.8.0.74)\n",
      "Requirement already satisfied: python-dotenv in c:\\users\\aabid\\appdata\\roaming\\python\\python311\\site-packages (from roboflow>=0.2.29->yolov5) (1.0.1)\n",
      "Requirement already satisfied: six in c:\\users\\aabid\\appdata\\roaming\\python\\python311\\site-packages (from roboflow>=0.2.29->yolov5) (1.16.0)\n",
      "Requirement already satisfied: requests-toolbelt in c:\\users\\aabid\\appdata\\roaming\\python\\python311\\site-packages (from roboflow>=0.2.29->yolov5) (1.0.0)\n",
      "Requirement already satisfied: python-magic in c:\\users\\aabid\\appdata\\roaming\\python\\python311\\site-packages (from roboflow>=0.2.29->yolov5) (0.4.27)\n",
      "Requirement already satisfied: shapely>=1.8.0 in c:\\users\\aabid\\appdata\\roaming\\python\\python311\\site-packages (from sahi>=0.11.10->yolov5) (2.0.3)\n",
      "Requirement already satisfied: pybboxes==0.1.6 in c:\\users\\aabid\\appdata\\roaming\\python\\python311\\site-packages (from sahi>=0.11.10->yolov5) (0.1.6)\n",
      "Requirement already satisfied: terminaltables in c:\\users\\aabid\\appdata\\roaming\\python\\python311\\site-packages (from sahi>=0.11.10->yolov5) (3.1.10)\n",
      "Requirement already satisfied: click in c:\\users\\aabid\\appdata\\roaming\\python\\python311\\site-packages (from sahi>=0.11.10->yolov5) (7.1.2)\n",
      "Requirement already satisfied: absl-py>=0.4 in c:\\users\\aabid\\appdata\\roaming\\python\\python311\\site-packages (from tensorboard>=2.4.1->yolov5) (2.1.0)\n",
      "Requirement already satisfied: grpcio>=1.48.2 in c:\\users\\aabid\\appdata\\roaming\\python\\python311\\site-packages (from tensorboard>=2.4.1->yolov5) (1.62.1)\n",
      "Requirement already satisfied: markdown>=2.6.8 in c:\\users\\aabid\\appdata\\roaming\\python\\python311\\site-packages (from tensorboard>=2.4.1->yolov5) (3.6)\n",
      "Requirement already satisfied: protobuf!=4.24.0,>=3.19.6 in c:\\users\\aabid\\appdata\\roaming\\python\\python311\\site-packages (from tensorboard>=2.4.1->yolov5) (5.26.0)\n",
      "Requirement already satisfied: tensorboard-data-server<0.8.0,>=0.7.0 in c:\\users\\aabid\\appdata\\roaming\\python\\python311\\site-packages (from tensorboard>=2.4.1->yolov5) (0.7.2)\n",
      "Requirement already satisfied: werkzeug>=1.0.1 in c:\\users\\aabid\\appdata\\roaming\\python\\python311\\site-packages (from tensorboard>=2.4.1->yolov5) (1.0.1)\n",
      "Requirement already satisfied: sympy in c:\\users\\aabid\\appdata\\roaming\\python\\python311\\site-packages (from torch>=1.7.0->yolov5) (1.12)\n",
      "Requirement already satisfied: networkx in c:\\users\\aabid\\appdata\\roaming\\python\\python311\\site-packages (from torch>=1.7.0->yolov5) (3.0)\n",
      "Requirement already satisfied: jinja2 in c:\\users\\aabid\\appdata\\roaming\\python\\python311\\site-packages (from torch>=1.7.0->yolov5) (2.11.3)\n",
      "Requirement already satisfied: colorama in c:\\users\\aabid\\appdata\\roaming\\python\\python311\\site-packages (from tqdm>=4.64.0->yolov5) (0.4.6)\n",
      "Requirement already satisfied: py-cpuinfo in c:\\users\\aabid\\appdata\\roaming\\python\\python311\\site-packages (from ultralytics>=8.0.100->yolov5) (9.0.0)\n",
      "Requirement already satisfied: termcolor in c:\\users\\aabid\\appdata\\roaming\\python\\python311\\site-packages (from fire->yolov5) (2.4.0)\n",
      "Requirement already satisfied: smmap<6,>=3.0.1 in c:\\users\\aabid\\appdata\\roaming\\python\\python311\\site-packages (from gitdb<5,>=4.0.1->gitpython>=3.1.30->yolov5) (5.0.1)\n",
      "Requirement already satisfied: MarkupSafe>=0.23 in c:\\users\\aabid\\appdata\\roaming\\python\\python311\\site-packages (from jinja2->torch>=1.7.0->yolov5) (2.0.1)\n",
      "Requirement already satisfied: mpmath>=0.19 in c:\\users\\aabid\\appdata\\roaming\\python\\python311\\site-packages (from sympy->torch>=1.7.0->yolov5) (1.3.0)\n"
     ]
    }
   ],
   "source": [
    "%pip install -U yolov5"
   ]
  },
  {
   "cell_type": "code",
   "execution_count": 4,
   "metadata": {},
   "outputs": [
    {
     "name": "stdout",
     "output_type": "stream",
     "text": [
      "Defaulting to user installation because normal site-packages is not writeable\n",
      "Note: you may need to restart the kernel to use updated packages.\n"
     ]
    },
    {
     "name": "stderr",
     "output_type": "stream",
     "text": [
      "ERROR: Could not find a version that satisfies the requirement python-opencv (from versions: none)\n",
      "ERROR: No matching distribution found for python-opencv\n"
     ]
    }
   ],
   "source": [
    "%pip install python-opencv"
   ]
  },
  {
   "cell_type": "code",
   "execution_count": 5,
   "metadata": {},
   "outputs": [
    {
     "name": "stderr",
     "output_type": "stream",
     "text": [
      "C:\\Users\\aabid\\AppData\\Roaming\\Python\\Python311\\site-packages\\tqdm\\auto.py:21: TqdmWarning: IProgress not found. Please update jupyter and ipywidgets. See https://ipywidgets.readthedocs.io/en/stable/user_install.html\n",
      "  from .autonotebook import tqdm as notebook_tqdm\n"
     ]
    }
   ],
   "source": [
    "import yolov5\n",
    "import cv2\n",
    "import numpy\n",
    "from matplotlib import pyplot as plt\n"
   ]
  },
  {
   "cell_type": "code",
   "execution_count": 6,
   "metadata": {},
   "outputs": [
    {
     "name": "stderr",
     "output_type": "stream",
     "text": [
      "YOLOv5  2024-3-27 Python-3.11.5 torch-2.1.1+cu118 CPU\n",
      "\n",
      "Fusing layers... \n",
      "Model summary: 157 layers, 1782166 parameters, 0 gradients, 4.2 GFLOPs\n",
      "Adding AutoShape... \n"
     ]
    }
   ],
   "source": [
    "# load model\n",
    "model = yolov5.load('keremberke/yolov5n-construction-safety')\n",
    "  \n",
    "# set model parameters\n",
    "model.conf = 0.25  # NMS confidence threshold\n",
    "model.iou = 0.45  # NMS IoU threshold\n",
    "model.agnostic = False  # NMS class-agnostic\n",
    "model.multi_label = False  # NMS multiple labels per box\n",
    "model.max_det = 1000  # maximum number of detections per image"
   ]
  },
  {
   "cell_type": "code",
   "execution_count": 7,
   "metadata": {},
   "outputs": [],
   "source": [
    "def unwrap_detection(input_image, output_data):\n",
    "    class_ids = []\n",
    "    confidences = []\n",
    "    boxes = []\n",
    "\n",
    "    rows = output_data.shape[0]\n",
    "\n",
    "    image_width, image_height, _ = input_image.shape\n",
    "\n",
    "    x_factor = 1024 / 640\n",
    "    y_factor =  1024 / 640\n",
    "\n",
    "    for r in range(rows):\n",
    "        row = output_data[r]\n",
    "        confidence = row[4]\n",
    "        if confidence >= 0.4:\n",
    "\n",
    "            classes_scores = row[5:]\n",
    "            _, _, _, max_indx = cv2.minMaxLoc(classes_scores)\n",
    "            class_id = max_indx[1]\n",
    "            if (classes_scores[class_id] > .25):\n",
    "\n",
    "                confidences.append(confidence)\n",
    "\n",
    "                class_ids.append(class_id)\n",
    "\n",
    "                x, y, w, h = row[0].item(), row[1].item(), row[2].item(), row[3].item() \n",
    "                left = int((x - 0.5 * w) * x_factor)\n",
    "                top = int((y - 0.5 * h) * y_factor)\n",
    "                width = int(w * x_factor)\n",
    "                height = int(h * y_factor)\n",
    "                box = numpy.array([left, top, width, height])\n",
    "                boxes.append(box)\n",
    "\n",
    "    return class_ids, confidences, boxes"
   ]
  },
  {
   "cell_type": "code",
   "execution_count": 56,
   "metadata": {},
   "outputs": [],
   "source": [
    "\n",
    "def video(img):\n",
    "    for image in img:\n",
    "        cv2.imshow(\"detection\",image)\n",
    "        if cv2.waitKey(10) & 0xFF == ord('q'):\n",
    "            break\n",
    "    cv2.destroyAllWindows()\n",
    "           "
   ]
  },
  {
   "cell_type": "code",
   "execution_count": 65,
   "metadata": {},
   "outputs": [],
   "source": [
    "\n",
    "def frame(path):\n",
    "\n",
    "   # Path to video file \n",
    "    vidObj = cv2.VideoCapture(path) \n",
    "\n",
    "    success , image = vidObj.read()\n",
    "    \n",
    "    # count the number of frames\n",
    "    count = 0\n",
    "\n",
    "    # checks whether frames were extracted \n",
    "    success = 1\n",
    "    print(vidObj.get(cv2.CAP_PROP_FPS))\n",
    "    \n",
    "    img =[]\n",
    "\n",
    "    # while succes:\n",
    "    while vidObj.isOpened():\n",
    "\n",
    "        success , image = vidObj.read()\n",
    "        size =  image.shape\n",
    "\n",
    "        if success :\n",
    "       \n",
    "          # perform inference\n",
    "          results = model(image, size=240)\n",
    "\n",
    "          # inference with test time augmentation\n",
    "          # results = model(image, augment=True)\n",
    "\n",
    "          # parse results\n",
    "          predictions = results.pred[0]\n",
    "          boxes = predictions[:, :4] # x1, y1, x2, y2\n",
    "          scores = predictions[:, 4]\n",
    "          categories = predictions[:, 5]\n",
    "        \n",
    "\n",
    "\n",
    "          # show detection bounding boxes on image\n",
    "          # results.show()\n",
    "\n",
    "          img.append(numpy.squeeze(results.render()))\n",
    "          cv2.imshow(\"detection\",numpy.squeeze(results.render()))\n",
    "          \n",
    "          if cv2.waitKey(1) & 0xFF == ord('q'):\n",
    "                break\n",
    "\n",
    "          \n",
    "          # plt.imshow(numpy.squeeze(results.render()))\n",
    "          # plt.show()\n",
    "          # print(results.render())\n",
    "\n",
    "          count +=1\n",
    "    vidObj.release()\n",
    "    cv2.destroyAllWindows()\n",
    "    \n",
    "   \n",
    "    "
   ]
  },
  {
   "cell_type": "code",
   "execution_count": 67,
   "metadata": {},
   "outputs": [
    {
     "name": "stdout",
     "output_type": "stream",
     "text": [
      "23.976023976023978\n"
     ]
    }
   ],
   "source": [
    "frame('./video/Rummel.mp4')"
   ]
  },
  {
   "cell_type": "code",
   "execution_count": 11,
   "metadata": {},
   "outputs": [],
   "source": [
    "import os\n",
    "\n",
    "def convert_avi_to_mp4(avi_file_path, output_name):\n",
    "    os.popen(\"ffmpeg -i '{input}' -ac 2 -b:v 2000k -c:a aac -c:v libx264 -b:a 160k -vprofile high -bf 0 -strict experimental -f mp4 '{output}.mp4'\".format(input = avi_file_path, output = output_name))\n",
    "    return True\n"
   ]
  },
  {
   "cell_type": "code",
   "execution_count": 12,
   "metadata": {},
   "outputs": [
    {
     "data": {
      "text/plain": [
       "True"
      ]
     },
     "execution_count": 12,
     "metadata": {},
     "output_type": "execute_result"
    }
   ],
   "source": [
    "convert_avi_to_mp4('.\\video3.avi',output_name='output')"
   ]
  },
  {
   "cell_type": "code",
   "execution_count": null,
   "metadata": {},
   "outputs": [],
   "source": []
  }
 ],
 "metadata": {
  "kernelspec": {
   "display_name": "Python 3",
   "language": "python",
   "name": "python3"
  },
  "language_info": {
   "codemirror_mode": {
    "name": "ipython",
    "version": 3
   },
   "file_extension": ".py",
   "mimetype": "text/x-python",
   "name": "python",
   "nbconvert_exporter": "python",
   "pygments_lexer": "ipython3",
   "version": "3.11.5"
  }
 },
 "nbformat": 4,
 "nbformat_minor": 2
}
